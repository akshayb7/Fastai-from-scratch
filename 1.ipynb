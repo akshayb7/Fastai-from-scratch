{
 "cells": [
  {
   "cell_type": "markdown",
   "metadata": {},
   "source": [
    "First, try to build a model that takes an input array, and try to build a simple fully connected neural network.\n",
    "Things to do:\n",
    "\n",
    "    Input -> Matrix Multiply -> ReLu -> Matrix Multiply -> Loss Function (forward pass).\n",
    "    Get Loss and then calculate gradients of weights and biases with respect to the loss.\n",
    "    Multiply with LR to subtract from parameters and get new parameters. (Repeat lots of time)"
   ]
  },
  {
   "cell_type": "code",
   "execution_count": null,
   "metadata": {},
   "outputs": [],
   "source": []
  }
 ],
 "metadata": {
  "kernelspec": {
   "display_name": "Python 3",
   "language": "python",
   "name": "python3"
  },
  "language_info": {
   "codemirror_mode": {
    "name": "ipython",
    "version": 3
   },
   "file_extension": ".py",
   "mimetype": "text/x-python",
   "name": "python",
   "nbconvert_exporter": "python",
   "pygments_lexer": "ipython3",
   "version": "3.7.4"
  }
 },
 "nbformat": 4,
 "nbformat_minor": 2
}
